{
 "cells": [
  {
   "cell_type": "code",
   "execution_count": null,
   "id": "61b7ef75-073e-4932-b942-07b0091dff58",
   "metadata": {},
   "outputs": [],
   "source": [
    "ar = [10,5,89,36,46,78]\n",
    "i = 1\n",
    "max = ar[0]\n",
    "while i<len(ar):\n",
    "    if ar[i]>max:\n",
    "        max = ar[i]\n",
    "    i+=1\n",
    "print(\"Max\")"
   ]
  },
  {
   "cell_type": "code",
   "execution_count": 4,
   "id": "efc1571d-c781-47cc-8f23-f9f72d40ad8b",
   "metadata": {},
   "outputs": [
    {
     "name": "stdout",
     "output_type": "stream",
     "text": [
      "12\n",
      "32\n",
      "342\n",
      "43\n"
     ]
    }
   ],
   "source": [
    "ar = [12,32,342,43]\n",
    "i = 0\n",
    "while i<len(ar):\n",
    "    print(ar[i])\n",
    "    i+=1"
   ]
  },
  {
   "cell_type": "code",
   "execution_count": 6,
   "id": "8e12c9e7-497f-44a1-ac16-ceba62618a56",
   "metadata": {},
   "outputs": [
    {
     "name": "stdout",
     "output_type": "stream",
     "text": [
      "Sum of Array is: 15\n"
     ]
    }
   ],
   "source": [
    "ar = [1,2,3,4,5]\n",
    "i = 0\n",
    "sum = 0\n",
    "while i<len(ar):\n",
    "    sum = sum+ar[i]\n",
    "    i+=1\n",
    "print(\"Sum of Array is:\",sum)"
   ]
  },
  {
   "cell_type": "code",
   "execution_count": 8,
   "id": "27fd9224-8ac5-4d50-aaf6-7cf5c70d8b0c",
   "metadata": {},
   "outputs": [
    {
     "name": "stdout",
     "output_type": "stream",
     "text": [
      "1\n",
      "2\n",
      "3\n",
      "4\n",
      "5\n"
     ]
    }
   ],
   "source": [
    "for i in range(0,len(ar),1):\n",
    "    print(ar[i])"
   ]
  },
  {
   "cell_type": "code",
   "execution_count": 14,
   "id": "92e88dab-3204-4540-bc07-86d9f924ce95",
   "metadata": {},
   "outputs": [
    {
     "name": "stdout",
     "output_type": "stream",
     "text": [
      "5\n",
      "4\n",
      "3\n",
      "2\n",
      "1\n"
     ]
    }
   ],
   "source": [
    "ar = [1,2,3,4,5,6,7,8,9]\n",
    "i = len(ar)-1\n",
    "while i>=0:\n",
    "    print(ar[i])\n",
    "    i-=1"
   ]
  },
  {
   "cell_type": "code",
   "execution_count": 20,
   "id": "ae7885ff-c26b-4599-95d4-cd518080c7a4",
   "metadata": {},
   "outputs": [
    {
     "name": "stdout",
     "output_type": "stream",
     "text": [
      "12\n",
      "342\n",
      "3412\n"
     ]
    }
   ],
   "source": [
    "arr = [12,232,342,233444,3412]\n",
    "i = 0\n",
    "while i<len(arr):\n",
    "    if i%2==0:\n",
    "        print(arr[i])\n",
    "    i+=1"
   ]
  },
  {
   "cell_type": "code",
   "execution_count": 22,
   "id": "c8271921-1aaf-4c5a-851e-9d73ff200325",
   "metadata": {},
   "outputs": [
    {
     "name": "stdout",
     "output_type": "stream",
     "text": [
      "112\n",
      "232\n",
      "23\n",
      "11\n"
     ]
    }
   ],
   "source": [
    "ar = [11,23,232,112]\n",
    "i = -1\n",
    "while i>=(len(ar)*-1):\n",
    "    print(ar[i])\n",
    "    i-=1\n",
    "    "
   ]
  },
  {
   "cell_type": "code",
   "execution_count": 25,
   "id": "6d9502da-e2dc-4c7e-8e33-2bb45d7fa7c4",
   "metadata": {},
   "outputs": [
    {
     "name": "stdout",
     "output_type": "stream",
     "text": [
      "112\n",
      "232\n",
      "23\n",
      "11\n"
     ]
    }
   ],
   "source": [
    "ar = [11,23,232,112]\n",
    "for i in range(len(ar)-1,-1,-1):\n",
    "    print(ar[i])"
   ]
  },
  {
   "cell_type": "code",
   "execution_count": 3,
   "id": "0c94d95a-3d91-4373-959e-ee79481d8958",
   "metadata": {},
   "outputs": [
    {
     "name": "stdout",
     "output_type": "stream",
     "text": [
      "[23, 343, 233, 2, 54, 76, None, None]\n",
      "[23, 343, 43, 233, 2, 54, 76, None]\n"
     ]
    }
   ],
   "source": [
    "ar = [None]*8\n",
    "ar[0] = 23\n",
    "ar[1] = 343\n",
    "ar[2] = 233\n",
    "ar[3] = 2\n",
    "ar[4] = 54\n",
    "ar[5] = 76\n",
    "print(ar)\n",
    "pos = 2\n",
    "data = 43\n",
    "size = 6\n",
    "i = size-1\n",
    "while i>=pos:\n",
    "    ar[i+1] = ar[i]\n",
    "    i-=1\n",
    "ar[pos] = data\n",
    "print(ar)\n"
   ]
  },
  {
   "cell_type": "code",
   "execution_count": 6,
   "id": "b3c9825d-56a9-4b4c-ad7e-610cf3e9770a",
   "metadata": {},
   "outputs": [
    {
     "name": "stdout",
     "output_type": "stream",
     "text": [
      "[12, 23, 342, 34, 22]\n",
      "[12, 342, 34, 22, None]\n"
     ]
    }
   ],
   "source": [
    "ar = [12,23,342,34,22]\n",
    "print(ar)\n",
    "pos = 1\n",
    "i = pos\n",
    "while i<len(ar)-1:\n",
    "    ar[i] = ar[i+1]\n",
    "    i+=1\n",
    "ar[len(ar)-1] = None\n",
    "print(ar)"
   ]
  },
  {
   "cell_type": "code",
   "execution_count": 2,
   "id": "6e577e96-96bf-4eaf-a963-fb2cd9872fc4",
   "metadata": {},
   "outputs": [
    {
     "name": "stdout",
     "output_type": "stream",
     "text": [
      "[13, 23, 3434, 333, 3423, 341, 6, 75]\n"
     ]
    }
   ],
   "source": [
    "ar = [13,23,3434,333,3423,341,6,75,76,87,54,98]\n",
    "ar1 = ar[0:8]\n",
    "print(ar1)"
   ]
  },
  {
   "cell_type": "code",
   "execution_count": 7,
   "id": "3b9db3ba-c51f-489b-a022-62c3f2c67c71",
   "metadata": {},
   "outputs": [
    {
     "name": "stdout",
     "output_type": "stream",
     "text": [
      "[98, 54, 87, 76]\n"
     ]
    }
   ],
   "source": [
    "ar2 = ar[-1:-5:-1]\n",
    "print(ar2)"
   ]
  },
  {
   "cell_type": "code",
   "execution_count": 9,
   "id": "1abe0eb5-2749-4231-9956-155f4fc56d32",
   "metadata": {},
   "outputs": [
    {
     "name": "stdout",
     "output_type": "stream",
     "text": [
      "[75, 76, 87, 54, 98]\n"
     ]
    }
   ],
   "source": [
    "ar3= ar[7:]\n",
    "print(ar3)"
   ]
  },
  {
   "cell_type": "code",
   "execution_count": 10,
   "id": "869f03c4-3fa9-4081-ac31-4b0ebe39ff75",
   "metadata": {},
   "outputs": [
    {
     "name": "stdout",
     "output_type": "stream",
     "text": [
      "[13, 23, 3434, 333, 3423, 341, 6]\n"
     ]
    }
   ],
   "source": [
    "ar4 = ar[:7]\n",
    "print(ar4)"
   ]
  },
  {
   "cell_type": "code",
   "execution_count": 13,
   "id": "3b45cfa3-83e8-4ab1-84d4-397d921d4015",
   "metadata": {},
   "outputs": [
    {
     "name": "stdout",
     "output_type": "stream",
     "text": [
      "[98, 54, 87, 76, 75, 6, 341, 3423, 333, 3434, 23]\n"
     ]
    }
   ],
   "source": [
    "ar5= ar[-1:0:-1]\n",
    "print(ar5)"
   ]
  },
  {
   "cell_type": "code",
   "execution_count": 12,
   "id": "c930f91d-cb6e-4456-9307-c6cd7fddad5e",
   "metadata": {},
   "outputs": [
    {
     "name": "stdout",
     "output_type": "stream",
     "text": [
      "[3434, 333]\n"
     ]
    }
   ],
   "source": [
    "ar6 = ar[2:4]\n",
    "print(ar6)"
   ]
  },
  {
   "cell_type": "code",
   "execution_count": null,
   "id": "bf72eeca-7a11-47fa-88ae-db3ead6ef6a8",
   "metadata": {},
   "outputs": [],
   "source": []
  }
 ],
 "metadata": {
  "kernelspec": {
   "display_name": "Python 3 (ipykernel)",
   "language": "python",
   "name": "python3"
  },
  "language_info": {
   "codemirror_mode": {
    "name": "ipython",
    "version": 3
   },
   "file_extension": ".py",
   "mimetype": "text/x-python",
   "name": "python",
   "nbconvert_exporter": "python",
   "pygments_lexer": "ipython3",
   "version": "3.11.7"
  }
 },
 "nbformat": 4,
 "nbformat_minor": 5
}
